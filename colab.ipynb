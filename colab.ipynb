{
  "nbformat": 4,
  "nbformat_minor": 0,
  "metadata": {
    "colab": {
      "provenance": []
    },
    "kernelspec": {
      "name": "python3",
      "display_name": "Python 3"
    },
    "language_info": {
      "name": "python"
    }
  },
  "cells": [
    {
      "cell_type": "code",
      "source": [
        "ls"
      ],
      "metadata": {
        "colab": {
          "base_uri": "https://localhost:8080/"
        },
        "id": "JM9sLkjf7VAb",
        "outputId": "1b8a0312-2061-42a0-88b9-e36901561337"
      },
      "execution_count": 1,
      "outputs": [
        {
          "output_type": "stream",
          "name": "stdout",
          "text": [
            "\u001b[0m\u001b[01;34msample_data\u001b[0m/\n"
          ]
        }
      ]
    },
    {
      "cell_type": "code",
      "execution_count": 2,
      "metadata": {
        "colab": {
          "base_uri": "https://localhost:8080/"
        },
        "id": "njMUvagh3j1y",
        "outputId": "cf86a6e8-6ded-4402-e409-74dee48e30ea"
      },
      "outputs": [
        {
          "output_type": "stream",
          "name": "stdout",
          "text": [
            "Cloning into 'Specter-AAL'...\n",
            "remote: Enumerating objects: 348, done.\u001b[K\n",
            "remote: Counting objects: 100% (148/148), done.\u001b[K\n",
            "remote: Compressing objects: 100% (148/148), done.\u001b[K\n",
            "remote: Total 348 (delta 89), reused 0 (delta 0), pack-reused 200 (from 1)\u001b[K\n",
            "Receiving objects: 100% (348/348), 315.09 KiB | 5.53 MiB/s, done.\n",
            "Resolving deltas: 100% (219/219), done.\n"
          ]
        }
      ],
      "source": [
        "!git clone https://github.com/mkeybeez/Specter-AAL.git"
      ]
    },
    {
      "cell_type": "code",
      "source": [
        "%cd Specter-AAL/"
      ],
      "metadata": {
        "colab": {
          "base_uri": "https://localhost:8080/"
        },
        "id": "9XbKOFsH3v7c",
        "outputId": "79dcfaf4-6215-457b-f27a-0e087575c425"
      },
      "execution_count": 3,
      "outputs": [
        {
          "output_type": "stream",
          "name": "stdout",
          "text": [
            "/content/Specter-AAL\n"
          ]
        }
      ]
    },
    {
      "cell_type": "code",
      "source": [
        "!gcc -std=gnu99 -pedantic -O3 -c aal.c -lm"
      ],
      "metadata": {
        "id": "omZ9uRgL33_2"
      },
      "execution_count": 4,
      "outputs": []
    },
    {
      "cell_type": "code",
      "source": [
        "!gcc -o specter console.c aal.c -lm\n"
      ],
      "metadata": {
        "id": "gqoa649p6-7O"
      },
      "execution_count": 5,
      "outputs": []
    },
    {
      "cell_type": "code",
      "source": [
        "!./specter\n"
      ],
      "metadata": {
        "colab": {
          "base_uri": "https://localhost:8080/"
        },
        "id": "_LSq1ZO77BAt",
        "outputId": "09f6a0d6-3671-4bef-efa0-1a9cef9c6a2f"
      },
      "execution_count": 6,
      "outputs": [
        {
          "output_type": "stream",
          "name": "stdout",
          "text": [
            "=====================\n",
            "*** Specter (AAL) ***\n",
            "---------------------\n",
            "    |Version 2.0|    \n",
            "=====================\n",
            "\n",
            "1. Addition\n",
            "2. Subtraction\n",
            "3. Multiplication\n",
            "4. Division\n",
            "5. Modulo\n",
            "6. Power (Not implemented)\n",
            "7. Sqrt (Not implemented)\n",
            "0. Exit\n",
            "\n",
            "Select: 4\n",
            "\n",
            "\n",
            "\n",
            "1. Keyboard input\n",
            "2. File input\n",
            "\n",
            "Select: 1\n",
            "\n",
            "* --- Division --- *\n",
            "Please enter number 1: 22\n",
            "Please enter number 2: 7\n",
            "\n",
            "Calculating...\n",
            "Enter precision (decimal places): 4\n",
            "Operation: 22 ÷ 7 (precision: 4)\n",
            "Result: 3.1428\n",
            "\n",
            "Benchmark :: Delay: 1707ms\n"
          ]
        }
      ]
    },
    {
      "cell_type": "code",
      "source": [
        "%cd .."
      ],
      "metadata": {
        "colab": {
          "base_uri": "https://localhost:8080/"
        },
        "id": "vQZqNs_v7rsW",
        "outputId": "5c91c8e8-76ce-4e5f-c3da-fab25876cc05"
      },
      "execution_count": 7,
      "outputs": [
        {
          "output_type": "stream",
          "name": "stdout",
          "text": [
            "/content\n"
          ]
        }
      ]
    },
    {
      "cell_type": "code",
      "source": [
        "!rm -r ./Specter-AAL"
      ],
      "metadata": {
        "id": "vk0XhE7L7tl2"
      },
      "execution_count": 8,
      "outputs": []
    },
    {
      "cell_type": "code",
      "source": [
        "# testcases:\n",
        "## passed:\n",
        "### addition:\n",
        "1+1\n",
        "-1+-1\n",
        "111+111\n",
        "# leading zeros 001+001\n",
        "--1+1\n",
        "1.1+1\n",
        "1.233+0.001\n",
        "0.001+1\n",
        "-1.0011+1\n",
        "1.00000001+0.001\n",
        "0.0001+0.00001\n",
        "\n",
        "### multiplication\n",
        "123 * 456\n",
        "123.456 * -1000000.01\n",
        "\n",
        "### division\n",
        "22 / 7"
      ],
      "metadata": {
        "id": "gsnFHcUddLjN",
        "colab": {
          "base_uri": "https://localhost:8080/"
        },
        "outputId": "74f20f61-c6e1-4bdb-d32e-0f7423ede424"
      },
      "execution_count": 9,
      "outputs": [
        {
          "output_type": "execute_result",
          "data": {
            "text/plain": [
              "3.142857142857143"
            ]
          },
          "metadata": {},
          "execution_count": 9
        }
      ]
    }
  ]
}
