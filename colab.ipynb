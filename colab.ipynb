{
  "nbformat": 4,
  "nbformat_minor": 0,
  "metadata": {
    "colab": {
      "provenance": []
    },
    "kernelspec": {
      "name": "python3",
      "display_name": "Python 3"
    },
    "language_info": {
      "name": "python"
    }
  },
  "cells": [
    {
      "cell_type": "code",
      "execution_count": 1,
      "metadata": {
        "colab": {
          "base_uri": "https://localhost:8080/"
        },
        "id": "njMUvagh3j1y",
        "outputId": "ba9df4d3-7316-4d47-913b-962a5253c166"
      },
      "outputs": [
        {
          "output_type": "stream",
          "name": "stdout",
          "text": [
            "Cloning into 'Specter-AAL'...\n",
            "remote: Enumerating objects: 229, done.\u001b[K\n",
            "remote: Counting objects: 100% (29/29), done.\u001b[K\n",
            "remote: Compressing objects: 100% (29/29), done.\u001b[K\n",
            "remote: Total 229 (delta 16), reused 0 (delta 0), pack-reused 200 (from 1)\u001b[K\n",
            "Receiving objects: 100% (229/229), 266.42 KiB | 1.17 MiB/s, done.\n",
            "Resolving deltas: 100% (146/146), done.\n"
          ]
        }
      ],
      "source": [
        "!git clone https://github.com/MkeyBeez/Specter-AAL.git"
      ]
    },
    {
      "cell_type": "code",
      "source": [
        "%cd Specter-AAL/"
      ],
      "metadata": {
        "colab": {
          "base_uri": "https://localhost:8080/"
        },
        "id": "9XbKOFsH3v7c",
        "outputId": "5a5a9ad8-7cf2-4558-b75b-fece8c2f3dcc"
      },
      "execution_count": 2,
      "outputs": [
        {
          "output_type": "stream",
          "name": "stdout",
          "text": [
            "/content/Specter-AAL\n"
          ]
        }
      ]
    },
    {
      "cell_type": "code",
      "source": [
        "ls"
      ],
      "metadata": {
        "colab": {
          "base_uri": "https://localhost:8080/"
        },
        "id": "fviyXK514Ab1",
        "outputId": "748ed912-ab22-4b6b-e335-466681d82086"
      },
      "execution_count": 3,
      "outputs": [
        {
          "output_type": "stream",
          "name": "stdout",
          "text": [
            " aal.c         LICENSE     Setup-Linux.sh\n",
            " benchmark.c   MyNum       Setup-Win.bat\n",
            " console.c     NumGen     'Specter-AAL - Analysis over the Concept.pdf'\n",
            " \u001b[0m\u001b[01;34mheaders\u001b[0m/      README.md   specter.c\n"
          ]
        }
      ]
    },
    {
      "cell_type": "code",
      "source": [
        "!gcc -std=gnu99 -pedantic -O3 -Wno-int-conversion -c console.c aal.c specter.c benchmark.c"
      ],
      "metadata": {
        "id": "omZ9uRgL33_2"
      },
      "execution_count": 4,
      "outputs": []
    },
    {
      "cell_type": "code",
      "source": [
        "!gcc -std=gnu99 -pedantic -O3 -Wno-int-conversion console.c aal.c specter.c benchmark.c -o specter\n"
      ],
      "metadata": {
        "id": "gqoa649p6-7O"
      },
      "execution_count": 5,
      "outputs": []
    },
    {
      "cell_type": "code",
      "source": [
        "!./specter\n"
      ],
      "metadata": {
        "colab": {
          "base_uri": "https://localhost:8080/"
        },
        "id": "_LSq1ZO77BAt",
        "outputId": "520ab0c7-d3e5-492e-af22-17e3938f455d"
      },
      "execution_count": 7,
      "outputs": [
        {
          "output_type": "stream",
          "name": "stdout",
          "text": [
            "=====================\n",
            "*** Specter (AAL) ***\n",
            "---------------------\n",
            "    |Version 1.4|    \n",
            "=====================\n",
            "\n",
            "1. Addition\n",
            "2. Subtraction\n",
            "3. Multiplication\n",
            "4. Division\n",
            "5. Modulo\n",
            "6. Power\n",
            "7. Sqrt\n",
            "0. Exit\n",
            "\n",
            "Select: 1\n",
            "\n",
            "\n",
            "\n",
            "1.Keyboard input\n",
            "2.File input\n",
            "\n",
            "Select: 1\n",
            "\n",
            "\n",
            "\n",
            "* --- Addition --- *\n",
            "Please enter number 1: -1\n",
            "Please enter number 2: -1\n",
            "Result: -2\n",
            "\n",
            "Benchmark :: Delay: 0ms\n"
          ]
        }
      ]
    }
  ]
}
